{
 "cells": [
  {
   "cell_type": "markdown",
   "id": "9f685a51",
   "metadata": {},
   "source": [
    "# Tool Calls Tombstones\n",
    "\n",
    "This notebook demonstrates the concept of **tombstones** in tool calls to reduce token consumption in LLM applications.\n",
    "\n",
    "**Concept**: When tool calls return very long outputs, we can replace them with summarized versions after their first use, reducing token consumption by > 95%\n",
    "\n",
    "**Source**: Mentioned in a recent [Anthropic podcast on YouTube.](https://www.youtube.com/watch?v=XuvKFsktX0Q)\n",
    "\n",
    "**Approach Demonstrated**:\n",
    "**LLM-Derived**: Using a samller LLM to summarize tool outputs into 5 words or less"
   ]
  },
  {
   "cell_type": "markdown",
   "id": "297705d2",
   "metadata": {},
   "source": [
    "## Setup\n"
   ]
  },
  {
   "cell_type": "markdown",
   "id": "49884fda",
   "metadata": {},
   "source": [
    "install dependencies"
   ]
  },
  {
   "cell_type": "code",
   "execution_count": 1,
   "id": "f48da8d8",
   "metadata": {},
   "outputs": [
    {
     "name": "stdout",
     "output_type": "stream",
     "text": [
      "Requirement already satisfied: openai in ./.venv/lib/python3.11/site-packages (2.3.0)\n",
      "Requirement already satisfied: tiktoken in ./.venv/lib/python3.11/site-packages (0.12.0)\n",
      "Requirement already satisfied: anyio<5,>=3.5.0 in ./.venv/lib/python3.11/site-packages (from openai) (4.11.0)\n",
      "Requirement already satisfied: distro<2,>=1.7.0 in ./.venv/lib/python3.11/site-packages (from openai) (1.9.0)\n",
      "Requirement already satisfied: httpx<1,>=0.23.0 in ./.venv/lib/python3.11/site-packages (from openai) (0.28.1)\n",
      "Requirement already satisfied: jiter<1,>=0.10.0 in ./.venv/lib/python3.11/site-packages (from openai) (0.11.0)\n",
      "Requirement already satisfied: pydantic<3,>=1.9.0 in ./.venv/lib/python3.11/site-packages (from openai) (2.12.0)\n",
      "Requirement already satisfied: sniffio in ./.venv/lib/python3.11/site-packages (from openai) (1.3.1)\n",
      "Requirement already satisfied: tqdm>4 in ./.venv/lib/python3.11/site-packages (from openai) (4.67.1)\n",
      "Requirement already satisfied: typing-extensions<5,>=4.11 in ./.venv/lib/python3.11/site-packages (from openai) (4.15.0)\n",
      "Requirement already satisfied: idna>=2.8 in ./.venv/lib/python3.11/site-packages (from anyio<5,>=3.5.0->openai) (3.10)\n",
      "Requirement already satisfied: certifi in ./.venv/lib/python3.11/site-packages (from httpx<1,>=0.23.0->openai) (2025.10.5)\n",
      "Requirement already satisfied: httpcore==1.* in ./.venv/lib/python3.11/site-packages (from httpx<1,>=0.23.0->openai) (1.0.9)\n",
      "Requirement already satisfied: h11>=0.16 in ./.venv/lib/python3.11/site-packages (from httpcore==1.*->httpx<1,>=0.23.0->openai) (0.16.0)\n",
      "Requirement already satisfied: annotated-types>=0.6.0 in ./.venv/lib/python3.11/site-packages (from pydantic<3,>=1.9.0->openai) (0.7.0)\n",
      "Requirement already satisfied: pydantic-core==2.41.1 in ./.venv/lib/python3.11/site-packages (from pydantic<3,>=1.9.0->openai) (2.41.1)\n",
      "Requirement already satisfied: typing-inspection>=0.4.2 in ./.venv/lib/python3.11/site-packages (from pydantic<3,>=1.9.0->openai) (0.4.2)\n",
      "Requirement already satisfied: regex>=2022.1.18 in ./.venv/lib/python3.11/site-packages (from tiktoken) (2025.9.18)\n",
      "Requirement already satisfied: requests>=2.26.0 in ./.venv/lib/python3.11/site-packages (from tiktoken) (2.32.5)\n",
      "Requirement already satisfied: charset_normalizer<4,>=2 in ./.venv/lib/python3.11/site-packages (from requests>=2.26.0->tiktoken) (3.4.3)\n",
      "Requirement already satisfied: urllib3<3,>=1.21.1 in ./.venv/lib/python3.11/site-packages (from requests>=2.26.0->tiktoken) (2.5.0)\n",
      "\n",
      "\u001b[1m[\u001b[0m\u001b[34;49mnotice\u001b[0m\u001b[1;39;49m]\u001b[0m\u001b[39;49m A new release of pip is available: \u001b[0m\u001b[31;49m25.1.1\u001b[0m\u001b[39;49m -> \u001b[0m\u001b[32;49m25.2\u001b[0m\n",
      "\u001b[1m[\u001b[0m\u001b[34;49mnotice\u001b[0m\u001b[1;39;49m]\u001b[0m\u001b[39;49m To update, run: \u001b[0m\u001b[32;49mpip install --upgrade pip\u001b[0m\n",
      "Note: you may need to restart the kernel to use updated packages.\n"
     ]
    }
   ],
   "source": [
    "%pip install openai tiktoken\n"
   ]
  },
  {
   "cell_type": "markdown",
   "id": "ad26737d",
   "metadata": {},
   "source": [
    "## Initial Tool Call Example\n"
   ]
  },
  {
   "cell_type": "code",
   "execution_count": 2,
   "id": "ecc9608d",
   "metadata": {},
   "outputs": [],
   "source": [
    "from openai import OpenAI\n",
    "from getpass import getpass\n",
    "import tiktoken\n",
    "import json"
   ]
  },
  {
   "cell_type": "code",
   "execution_count": 25,
   "id": "6d13db00",
   "metadata": {},
   "outputs": [],
   "source": [
    "encoding = tiktoken.encoding_for_model(\"gpt-5\")\n",
    "\n",
    "def count_tokens(text):\n",
    "    return len(encoding.encode(text))"
   ]
  },
  {
   "cell_type": "code",
   "execution_count": 4,
   "id": "a7edb933",
   "metadata": {},
   "outputs": [],
   "source": [
    "# Prompt for API key securely\n",
    "api_key = getpass(\"Enter your OpenAI API key: \")\n",
    "\n",
    "# Initialize the OpenAI client\n",
    "client = OpenAI(api_key=api_key)"
   ]
  },
  {
   "cell_type": "code",
   "execution_count": 5,
   "id": "673f7e4c",
   "metadata": {},
   "outputs": [],
   "source": [
    "# Define a tool that returns a very long response (simulating verbose tool outputs)\n",
    "tools = [\n",
    "    {\n",
    "        \"type\": \"function\",\n",
    "        \"name\": \"get_customer_profile\",\n",
    "        \"description\": \"Retrieve detailed customer profile and interaction history from the CRM system.\",\n",
    "        \"parameters\": {\n",
    "            \"type\": \"object\",\n",
    "            \"properties\": {\n",
    "                \"customer_id\": {\n",
    "                    \"type\": \"string\",\n",
    "                    \"description\": \"The unique identifier for the customer in the CRM system\",\n",
    "                },\n",
    "            },\n",
    "            \"required\": [\"customer_id\"],\n",
    "        },\n",
    "    },\n",
    "]\n",
    "\n",
    "def get_customer_profile(customer_id):\n",
    "    return f\"\"\"CUSTOMER PROFILE - ID: {customer_id}\n",
    "\n",
    "BASIC INFORMATION:\n",
    "Name: Sarah Chen\n",
    "Email: sarah.chen@techstartup.io\n",
    "Phone: +1 (555) 234-9876\n",
    "Company: TechStartup Inc.\n",
    "Position: VP of Engineering\n",
    "Industry: Software Development\n",
    "Account Value: $485,000 ARR\n",
    "Customer Since: March 15, 2023\n",
    "Account Status: Active - Premium Tier\n",
    "\n",
    "ENGAGEMENT HISTORY:\n",
    "Sarah has been an exceptionally engaged customer with our platform, demonstrating consistent usage patterns and a deep understanding of our product capabilities. Over the past 18 months, she has participated in 12 webinars, attended 3 in-person conferences, and completed our advanced certification program. Her team of 45 engineers has achieved a 94% platform adoption rate, which is significantly above our customer average of 67%.\n",
    "\n",
    "RECENT INTERACTIONS:\n",
    "- Nov 8, 2024: Submitted feature request for enhanced API rate limiting controls\n",
    "- Oct 22, 2024: Participated in Beta program for new analytics dashboard\n",
    "- Oct 15, 2024: Attended Q3 Business Review meeting with our Customer Success team\n",
    "- Sep 30, 2024: Raised support ticket #45892 regarding integration issues (resolved within 4 hours)\n",
    "- Sep 12, 2024: Provided testimonial for case study on DevOps transformation\n",
    "\n",
    "PURCHASE HISTORY:\n",
    "The account has shown steady growth with strategic upsells aligned to their business needs. Initial purchase was our Professional plan at $15,000/month. Six months in, they upgraded to Enterprise at $28,000/month. Most recently, they added our Advanced Security module ($12,500/month) and AI-powered monitoring suite ($8,500/month). Contract renewal is scheduled for March 2025 with strong indicators for expansion into our new Data Governance offering.\n",
    "\n",
    "SUPPORT METRICS:\n",
    "Total Tickets: 23 (18 resolved, 5 ongoing)\n",
    "Average Resolution Time: 6.2 hours\n",
    "Customer Satisfaction Score: 9.2/10\n",
    "Net Promoter Score: 9/10\n",
    "Last Support Contact: 6 days ago\n",
    "\n",
    "KEY OPPORTUNITIES:\n",
    "Sarah mentioned in our last QBR that they're planning a major infrastructure modernization project in Q1 2025, which could be an excellent opportunity to introduce our Infrastructure Automation suite. Additionally, they're expanding their team by 30% next quarter, which aligns perfectly with our volume licensing incentives. She's also expressed interest in our upcoming Machine Learning Operations module during the beta program feedback session.\n",
    "\n",
    "RISK FACTORS:\n",
    "Minimal churn risk identified. The only concern noted was the recent integration issue, but it was resolved quickly and Sarah expressed satisfaction with our response time. Competitor analysis shows that two of their portfolio companies use alternative solutions, but Sarah has been vocal about the superior ROI they've experienced with our platform.\n",
    "\n",
    "RELATIONSHIP STRENGTH:\n",
    "Executive sponsorship is strong with quarterly touchpoints at the C-level. Sarah has introduced us to three other companies in her network, resulting in two new customers. She's scheduled to speak at our annual user conference next month, showcasing their success story on reducing deployment times by 75% using our platform.\"\"\"\n"
   ]
  },
  {
   "cell_type": "code",
   "execution_count": 6,
   "id": "3a735d63",
   "metadata": {},
   "outputs": [],
   "source": [
    "# Initialize conversation with a user query\n",
    "messages = [\n",
    "    {\"role\": \"user\", \"content\": \"Can you pull up the profile for customer CUST-2847?\"}\n",
    "]"
   ]
  },
  {
   "cell_type": "code",
   "execution_count": 7,
   "id": "76fe66a3",
   "metadata": {},
   "outputs": [],
   "source": [
    "# Make API call with tool definitions\n",
    "response = client.responses.create(\n",
    "    model=\"gpt-5\",\n",
    "    tools=tools,\n",
    "    input=messages\n",
    ")\n",
    "\n",
    "messages += response\n",
    "\n",
    "# Execute tool calls and append results to messages\n",
    "for item in response.output:\n",
    "    if item.type == \"function_call\":\n",
    "        if item.name == \"get_customer_profile\":\n",
    "            args = json.loads(item.arguments)\n",
    "            customer_data = get_customer_profile(args[\"customer_id\"])\n",
    "            \n",
    "            messages.append({\n",
    "                \"type\": \"function_call_output\",\n",
    "                \"call_id\": item.call_id,\n",
    "                \"output\": json.dumps({\n",
    "                  \"customer_profile\": customer_data\n",
    "                })\n",
    "            })"
   ]
  },
  {
   "cell_type": "markdown",
   "id": "1f0fe0dc",
   "metadata": {},
   "source": [
    "## Analyze Original Tool Call\n",
    "\n",
    "Save the original tool call and measure its token count to establish a baseline.\n"
   ]
  },
  {
   "cell_type": "code",
   "execution_count": 8,
   "id": "274b2bdb",
   "metadata": {},
   "outputs": [],
   "source": [
    "\n",
    "original_tool_call = messages[-1]"
   ]
  },
  {
   "cell_type": "code",
   "execution_count": 9,
   "id": "9d43359b",
   "metadata": {},
   "outputs": [
    {
     "data": {
      "text/plain": [
       "{'type': 'function_call_output',\n",
       " 'call_id': 'call_GEGkd69brnSGVrPBvkyS1ykO',\n",
       " 'output': '{\"customer_profile\": \"CUSTOMER PROFILE - ID: CUST-2847\\\\n\\\\nBASIC INFORMATION:\\\\nName: Sarah Chen\\\\nEmail: sarah.chen@techstartup.io\\\\nPhone: +1 (555) 234-9876\\\\nCompany: TechStartup Inc.\\\\nPosition: VP of Engineering\\\\nIndustry: Software Development\\\\nAccount Value: $485,000 ARR\\\\nCustomer Since: March 15, 2023\\\\nAccount Status: Active - Premium Tier\\\\n\\\\nENGAGEMENT HISTORY:\\\\nSarah has been an exceptionally engaged customer with our platform, demonstrating consistent usage patterns and a deep understanding of our product capabilities. Over the past 18 months, she has participated in 12 webinars, attended 3 in-person conferences, and completed our advanced certification program. Her team of 45 engineers has achieved a 94% platform adoption rate, which is significantly above our customer average of 67%.\\\\n\\\\nRECENT INTERACTIONS:\\\\n- Nov 8, 2024: Submitted feature request for enhanced API rate limiting controls\\\\n- Oct 22, 2024: Participated in Beta program for new analytics dashboard\\\\n- Oct 15, 2024: Attended Q3 Business Review meeting with our Customer Success team\\\\n- Sep 30, 2024: Raised support ticket #45892 regarding integration issues (resolved within 4 hours)\\\\n- Sep 12, 2024: Provided testimonial for case study on DevOps transformation\\\\n\\\\nPURCHASE HISTORY:\\\\nThe account has shown steady growth with strategic upsells aligned to their business needs. Initial purchase was our Professional plan at $15,000/month. Six months in, they upgraded to Enterprise at $28,000/month. Most recently, they added our Advanced Security module ($12,500/month) and AI-powered monitoring suite ($8,500/month). Contract renewal is scheduled for March 2025 with strong indicators for expansion into our new Data Governance offering.\\\\n\\\\nSUPPORT METRICS:\\\\nTotal Tickets: 23 (18 resolved, 5 ongoing)\\\\nAverage Resolution Time: 6.2 hours\\\\nCustomer Satisfaction Score: 9.2/10\\\\nNet Promoter Score: 9/10\\\\nLast Support Contact: 6 days ago\\\\n\\\\nKEY OPPORTUNITIES:\\\\nSarah mentioned in our last QBR that they\\'re planning a major infrastructure modernization project in Q1 2025, which could be an excellent opportunity to introduce our Infrastructure Automation suite. Additionally, they\\'re expanding their team by 30% next quarter, which aligns perfectly with our volume licensing incentives. She\\'s also expressed interest in our upcoming Machine Learning Operations module during the beta program feedback session.\\\\n\\\\nRISK FACTORS:\\\\nMinimal churn risk identified. The only concern noted was the recent integration issue, but it was resolved quickly and Sarah expressed satisfaction with our response time. Competitor analysis shows that two of their portfolio companies use alternative solutions, but Sarah has been vocal about the superior ROI they\\'ve experienced with our platform.\\\\n\\\\nRELATIONSHIP STRENGTH:\\\\nExecutive sponsorship is strong with quarterly touchpoints at the C-level. Sarah has introduced us to three other companies in her network, resulting in two new customers. She\\'s scheduled to speak at our annual user conference next month, showcasing their success story on reducing deployment times by 75% using our platform.\"}'}"
      ]
     },
     "execution_count": 9,
     "metadata": {},
     "output_type": "execute_result"
    }
   ],
   "source": [
    "original_tool_call"
   ]
  },
  {
   "cell_type": "code",
   "execution_count": 10,
   "id": "5c1776f4",
   "metadata": {},
   "outputs": [],
   "source": [
    "original_tool_call_tokens = count_tokens(original_tool_call[\"output\"])"
   ]
  },
  {
   "cell_type": "code",
   "execution_count": 11,
   "id": "83b4ee13",
   "metadata": {},
   "outputs": [
    {
     "data": {
      "text/plain": [
       "679"
      ]
     },
     "execution_count": 11,
     "metadata": {},
     "output_type": "execute_result"
    }
   ],
   "source": [
    "original_tool_call_tokens"
   ]
  },
  {
   "cell_type": "markdown",
   "id": "57a46345",
   "metadata": {},
   "source": [
    "## Tombstone creation\n",
    "\n",
    "Use a lightweight LLM to automatically summarize the tool output into 5 words or less."
   ]
  },
  {
   "cell_type": "code",
   "execution_count": 12,
   "id": "fd78f1da",
   "metadata": {},
   "outputs": [],
   "source": [
    "\n",
    "# Use a lightweight model to summarize the output\n",
    "new_output = client.responses.create(\n",
    "    model=\"gpt-5-nano\",\n",
    "    instructions=\"Rewrite this into 5 words or less\",\n",
    "    input=original_tool_call[\"output\"]\n",
    ")"
   ]
  },
  {
   "cell_type": "code",
   "execution_count": 13,
   "id": "4d6cb482",
   "metadata": {},
   "outputs": [],
   "source": [
    "llm_summary_tool_call = new_output.output_text"
   ]
  },
  {
   "cell_type": "code",
   "execution_count": 14,
   "id": "3d3a5b9c",
   "metadata": {},
   "outputs": [
    {
     "data": {
      "text/plain": [
       "'VP Eng, Premium Enterprise, TechStartup.'"
      ]
     },
     "execution_count": 14,
     "metadata": {},
     "output_type": "execute_result"
    }
   ],
   "source": [
    "llm_summary_tool_call"
   ]
  },
  {
   "cell_type": "code",
   "execution_count": 15,
   "id": "ddae254d",
   "metadata": {},
   "outputs": [],
   "source": [
    "new_llm_summary_tool_call = {\n",
    "    \"type\": \"function_call_output\",\n",
    "    \"call_id\": item.call_id,\n",
    "    \"output\": json.dumps({\n",
    "      \"customer_profile\": llm_summary_tool_call\n",
    "    })\n",
    "}"
   ]
  },
  {
   "cell_type": "code",
   "execution_count": 16,
   "id": "4215050d",
   "metadata": {},
   "outputs": [
    {
     "data": {
      "text/plain": [
       "{'type': 'function_call_output',\n",
       " 'call_id': 'call_GEGkd69brnSGVrPBvkyS1ykO',\n",
       " 'output': '{\"customer_profile\": \"VP Eng, Premium Enterprise, TechStartup.\"}'}"
      ]
     },
     "execution_count": 16,
     "metadata": {},
     "output_type": "execute_result"
    }
   ],
   "source": [
    "new_llm_summary_tool_call"
   ]
  },
  {
   "cell_type": "code",
   "execution_count": 32,
   "id": "595d30e3",
   "metadata": {},
   "outputs": [],
   "source": [
    "new_llm_summary_tool_call_tokens = count_tokens(new_llm_summary_tool_call[\"output\"])"
   ]
  },
  {
   "cell_type": "code",
   "execution_count": 18,
   "id": "45883271",
   "metadata": {},
   "outputs": [
    {
     "data": {
      "text/plain": [
       "15"
      ]
     },
     "execution_count": 18,
     "metadata": {},
     "output_type": "execute_result"
    }
   ],
   "source": [
    "new_llm_summary_tool_call_tokens"
   ]
  },
  {
   "cell_type": "markdown",
   "id": "46a4347d",
   "metadata": {},
   "source": [
    "## Results Comparison\n",
    "\n",
    "Compare token counts between the original and tombstoned tool calls.\n"
   ]
  },
  {
   "cell_type": "code",
   "execution_count": 19,
   "id": "9308ace2",
   "metadata": {},
   "outputs": [
    {
     "data": {
      "text/plain": [
       "(679, 15)"
      ]
     },
     "execution_count": 19,
     "metadata": {},
     "output_type": "execute_result"
    }
   ],
   "source": [
    "# Display original vs tombstoned token counts\n",
    "(original_tool_call_tokens, new_llm_summary_tool_call_tokens)"
   ]
  },
  {
   "cell_type": "code",
   "execution_count": 30,
   "id": "eb5931d6",
   "metadata": {},
   "outputs": [
    {
     "data": {
      "text/plain": [
       "0.9779086892488954"
      ]
     },
     "execution_count": 30,
     "metadata": {},
     "output_type": "execute_result"
    }
   ],
   "source": [
    "# Calculate percentage reduction\n",
    "(original_tool_call_tokens - new_llm_summary_tool_call_tokens) / original_tool_call_tokens"
   ]
  }
 ],
 "metadata": {
  "kernelspec": {
   "display_name": ".venv",
   "language": "python",
   "name": "python3"
  },
  "language_info": {
   "codemirror_mode": {
    "name": "ipython",
    "version": 3
   },
   "file_extension": ".py",
   "mimetype": "text/x-python",
   "name": "python",
   "nbconvert_exporter": "python",
   "pygments_lexer": "ipython3",
   "version": "3.11.13"
  }
 },
 "nbformat": 4,
 "nbformat_minor": 5
}
