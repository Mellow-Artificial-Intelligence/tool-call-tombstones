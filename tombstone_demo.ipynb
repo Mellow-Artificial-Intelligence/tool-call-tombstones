{
 "cells": [
  {
   "cell_type": "markdown",
   "id": "9f685a51",
   "metadata": {},
   "source": [
    "# Tombstoning Tool Calls\n",
    "\n",
    "This notebook demonstrates the concept of **tombstoning tool calls** to reduce token consumption in LLM applications.\n",
    "\n",
    "**Concept**: When tool calls return very long outputs, we can replace them with summarized versions after their first use, reducing token consumption by up to ~95%\n",
    "\n",
    "**Source**: Mentioned in a recent [Anthropic podcast on YouTube.](https://www.youtube.com/watch?v=XuvKFsktX0Q)\n",
    "\n",
    "**Two Approaches Demonstrated**:\n",
    "1. **Naive Tombstoning**: Manual replacement with a short summary\n",
    "2. **LLM-Derived Tombstoning**: Using an LLM to automatically summarize tool outputs into 5 words or less"
   ]
  },
  {
   "cell_type": "markdown",
   "id": "297705d2",
   "metadata": {},
   "source": [
    "## Setup\n"
   ]
  },
  {
   "cell_type": "code",
   "execution_count": 1,
   "id": "f48da8d8",
   "metadata": {},
   "outputs": [
    {
     "name": "stdout",
     "output_type": "stream",
     "text": [
      "Requirement already satisfied: openai in ./.venv/lib/python3.11/site-packages (2.3.0)\n",
      "Requirement already satisfied: tiktoken in ./.venv/lib/python3.11/site-packages (0.12.0)\n",
      "Requirement already satisfied: anyio<5,>=3.5.0 in ./.venv/lib/python3.11/site-packages (from openai) (4.11.0)\n",
      "Requirement already satisfied: distro<2,>=1.7.0 in ./.venv/lib/python3.11/site-packages (from openai) (1.9.0)\n",
      "Requirement already satisfied: httpx<1,>=0.23.0 in ./.venv/lib/python3.11/site-packages (from openai) (0.28.1)\n",
      "Requirement already satisfied: jiter<1,>=0.10.0 in ./.venv/lib/python3.11/site-packages (from openai) (0.11.0)\n",
      "Requirement already satisfied: pydantic<3,>=1.9.0 in ./.venv/lib/python3.11/site-packages (from openai) (2.12.0)\n",
      "Requirement already satisfied: sniffio in ./.venv/lib/python3.11/site-packages (from openai) (1.3.1)\n",
      "Requirement already satisfied: tqdm>4 in ./.venv/lib/python3.11/site-packages (from openai) (4.67.1)\n",
      "Requirement already satisfied: typing-extensions<5,>=4.11 in ./.venv/lib/python3.11/site-packages (from openai) (4.15.0)\n",
      "Requirement already satisfied: idna>=2.8 in ./.venv/lib/python3.11/site-packages (from anyio<5,>=3.5.0->openai) (3.10)\n",
      "Requirement already satisfied: certifi in ./.venv/lib/python3.11/site-packages (from httpx<1,>=0.23.0->openai) (2025.10.5)\n",
      "Requirement already satisfied: httpcore==1.* in ./.venv/lib/python3.11/site-packages (from httpx<1,>=0.23.0->openai) (1.0.9)\n",
      "Requirement already satisfied: h11>=0.16 in ./.venv/lib/python3.11/site-packages (from httpcore==1.*->httpx<1,>=0.23.0->openai) (0.16.0)\n",
      "Requirement already satisfied: annotated-types>=0.6.0 in ./.venv/lib/python3.11/site-packages (from pydantic<3,>=1.9.0->openai) (0.7.0)\n",
      "Requirement already satisfied: pydantic-core==2.41.1 in ./.venv/lib/python3.11/site-packages (from pydantic<3,>=1.9.0->openai) (2.41.1)\n",
      "Requirement already satisfied: typing-inspection>=0.4.2 in ./.venv/lib/python3.11/site-packages (from pydantic<3,>=1.9.0->openai) (0.4.2)\n",
      "Requirement already satisfied: regex>=2022.1.18 in ./.venv/lib/python3.11/site-packages (from tiktoken) (2025.9.18)\n",
      "Requirement already satisfied: requests>=2.26.0 in ./.venv/lib/python3.11/site-packages (from tiktoken) (2.32.5)\n",
      "Requirement already satisfied: charset_normalizer<4,>=2 in ./.venv/lib/python3.11/site-packages (from requests>=2.26.0->tiktoken) (3.4.3)\n",
      "Requirement already satisfied: urllib3<3,>=1.21.1 in ./.venv/lib/python3.11/site-packages (from requests>=2.26.0->tiktoken) (2.5.0)\n",
      "\n",
      "\u001b[1m[\u001b[0m\u001b[34;49mnotice\u001b[0m\u001b[1;39;49m]\u001b[0m\u001b[39;49m A new release of pip is available: \u001b[0m\u001b[31;49m25.1.1\u001b[0m\u001b[39;49m -> \u001b[0m\u001b[32;49m25.2\u001b[0m\n",
      "\u001b[1m[\u001b[0m\u001b[34;49mnotice\u001b[0m\u001b[1;39;49m]\u001b[0m\u001b[39;49m To update, run: \u001b[0m\u001b[32;49mpip install --upgrade pip\u001b[0m\n",
      "Note: you may need to restart the kernel to use updated packages.\n"
     ]
    }
   ],
   "source": [
    "%pip install openai tiktoken\n"
   ]
  },
  {
   "cell_type": "code",
   "execution_count": 2,
   "id": "5e74f7d6",
   "metadata": {},
   "outputs": [],
   "source": [
    "import tiktoken\n",
    "encoding = tiktoken.encoding_for_model(\"gpt-5\")\n",
    "\n",
    "def count_tokens(text):\n",
    "    return len(encoding.encode(text))"
   ]
  },
  {
   "cell_type": "markdown",
   "id": "ad26737d",
   "metadata": {},
   "source": [
    "## Initial Tool Call Example\n"
   ]
  },
  {
   "cell_type": "code",
   "execution_count": 3,
   "id": "ecc9608d",
   "metadata": {},
   "outputs": [],
   "source": [
    "from openai import OpenAI\n",
    "from getpass import getpass\n",
    "import json\n",
    "\n",
    "# Prompt for API key securely\n",
    "api_key = getpass(\"Enter your OpenAI API key: \")\n",
    "\n",
    "# Initialize the OpenAI client\n",
    "client = OpenAI(api_key=api_key)"
   ]
  },
  {
   "cell_type": "code",
   "execution_count": 4,
   "id": "673f7e4c",
   "metadata": {},
   "outputs": [],
   "source": [
    "# Define a tool that returns a very long response (simulating verbose tool outputs)\n",
    "tools = [\n",
    "    {\n",
    "        \"type\": \"function\",\n",
    "        \"name\": \"get_horoscope\",\n",
    "        \"description\": \"Get today's horoscope for an astrological sign.\",\n",
    "        \"parameters\": {\n",
    "            \"type\": \"object\",\n",
    "            \"properties\": {\n",
    "                \"sign\": {\n",
    "                    \"type\": \"string\",\n",
    "                    \"description\": \"An astrological sign like Taurus or Aquarius\",\n",
    "                },\n",
    "            },\n",
    "            \"required\": [\"sign\"],\n",
    "        },\n",
    "    },\n",
    "]\n",
    "\n",
    "def get_horoscope(sign):\n",
    "    return f\"\"\"{sign}: The celestial bodies are aligning in your favor this week, bringing with them a tide of transformative energy that will wash over every aspect of your life. As the planets dance through the cosmos, they weave intricate patterns that speak directly to your soul's journey. The universe has been conspiring to bring you to this moment, where opportunity and preparation meet in a beautiful cosmic waltz.\n",
    "\n",
    "In matters of the heart, Venus whispers secrets of connection and understanding. You may find yourself drawn to unexpected places and people, as the stars guide you toward meaningful encounters. Trust your intuition as it navigates these uncharted waters - it knows the way even when your logical mind cannot see the path ahead.\n",
    "\n",
    "Your professional life is about to experience a significant shift. Jupiter's influence suggests expansion and growth, but remember that all great things require patience and dedication. The seeds you plant now will bear fruit in ways you cannot yet imagine. Stay focused on your long-term vision, even when the daily grind feels overwhelming.\n",
    "\n",
    "Next Tuesday holds particular significance - you will befriend a baby otter, and this seemingly random encounter will serve as a powerful metaphor for the playful, curious energy you need to embrace. Let this adorable creature remind you that life is meant to be enjoyed, not just endured. The otter's natural wisdom about going with the flow while remaining alert and engaged is exactly the balance you need to cultivate.\n",
    "\n",
    "Financial prospects look promising, but avoid impulsive decisions. The stars suggest a careful, measured approach to any investments or major purchases. What seems like a golden opportunity on the surface may require deeper examination.\n",
    "\n",
    "Your health and well-being call for attention. The cosmic energies encourage you to establish better boundaries and prioritize self-care. Remember, you cannot pour from an empty cup. Take time to recharge your physical, emotional, and spiritual batteries.\n",
    "\n",
    "As this cycle progresses, you'll discover hidden talents and passions you never knew existed. The universe is inviting you to step outside your comfort zone and explore new horizons. Embrace the unknown with courage and curiosity, knowing that the stars are guiding your every step.\"\"\"\n"
   ]
  },
  {
   "cell_type": "code",
   "execution_count": 5,
   "id": "3a735d63",
   "metadata": {},
   "outputs": [],
   "source": [
    "# Initialize conversation with a user query\n",
    "messages = [\n",
    "    {\"role\": \"user\", \"content\": \"What is my horoscope? I am a Virgo.\"}\n",
    "]"
   ]
  },
  {
   "cell_type": "code",
   "execution_count": 6,
   "id": "76fe66a3",
   "metadata": {},
   "outputs": [],
   "source": [
    "# Make API call with tool definitions\n",
    "response = client.responses.create(\n",
    "    model=\"gpt-5\",\n",
    "    tools=tools,\n",
    "    input=messages\n",
    ")\n",
    "\n",
    "messages += response\n",
    "\n",
    "# Execute tool calls and append results to messages\n",
    "for item in response.output:\n",
    "    if item.type == \"function_call\":\n",
    "        if item.name == \"get_horoscope\":\n",
    "            horoscope = get_horoscope(json.loads(item.arguments))\n",
    "            \n",
    "            messages.append({\n",
    "                \"type\": \"function_call_output\",\n",
    "                \"call_id\": item.call_id,\n",
    "                \"output\": json.dumps({\n",
    "                  \"horoscope\": horoscope\n",
    "                })\n",
    "            })"
   ]
  },
  {
   "cell_type": "markdown",
   "id": "1f0fe0dc",
   "metadata": {},
   "source": [
    "## Analyze Original Tool Call\n",
    "\n",
    "Save the original tool call and measure its token count to establish a baseline.\n"
   ]
  },
  {
   "cell_type": "code",
   "execution_count": 7,
   "id": "3446aa68",
   "metadata": {},
   "outputs": [
    {
     "data": {
      "text/plain": [
       "[{'role': 'user', 'content': 'What is my horoscope? I am a Virgo.'},\n",
       " ('id', 'resp_04e482205c5545220068ed7cb20c84819681148aa19c3bb3a4'),\n",
       " ('created_at', 1760394418.0),\n",
       " ('error', None),\n",
       " ('incomplete_details', None),\n",
       " ('instructions', None),\n",
       " ('metadata', {}),\n",
       " ('model', 'gpt-5-2025-08-07'),\n",
       " ('object', 'response'),\n",
       " ('output',\n",
       "  [ResponseReasoningItem(id='rs_04e482205c5545220068ed7cb2c92c81968dda0fa237e7c512', summary=[], type='reasoning', content=None, encrypted_content=None, status=None),\n",
       "   ResponseFunctionToolCall(arguments='{\"sign\":\"Virgo\"}', call_id='call_pT6xXvd3ZKkureVsraFhvpql', name='get_horoscope', type='function_call', id='fc_04e482205c5545220068ed7cb44288819688f63b2b482d3cf9', status='completed')]),\n",
       " ('parallel_tool_calls', True),\n",
       " ('temperature', 1.0),\n",
       " ('tool_choice', 'auto'),\n",
       " ('tools',\n",
       "  [FunctionTool(name='get_horoscope', parameters={'type': 'object', 'properties': {'sign': {'type': 'string', 'description': 'An astrological sign like Taurus or Aquarius'}}, 'required': ['sign'], 'additionalProperties': False}, strict=True, type='function', description=\"Get today's horoscope for an astrological sign.\")]),\n",
       " ('top_p', 1.0),\n",
       " ('background', False),\n",
       " ('conversation', None),\n",
       " ('max_output_tokens', None),\n",
       " ('max_tool_calls', None),\n",
       " ('previous_response_id', None),\n",
       " ('prompt', None),\n",
       " ('prompt_cache_key', None),\n",
       " ('reasoning',\n",
       "  Reasoning(effort='medium', generate_summary=None, summary=None)),\n",
       " ('safety_identifier', None),\n",
       " ('service_tier', 'default'),\n",
       " ('status', 'completed'),\n",
       " ('text',\n",
       "  ResponseTextConfig(format=ResponseFormatText(type='text'), verbosity='medium')),\n",
       " ('top_logprobs', 0),\n",
       " ('truncation', 'disabled'),\n",
       " ('usage',\n",
       "  ResponseUsage(input_tokens=70, input_tokens_details=InputTokensDetails(cached_tokens=0), output_tokens=151, output_tokens_details=OutputTokensDetails(reasoning_tokens=128), total_tokens=221)),\n",
       " ('user', None),\n",
       " ('billing', {'payer': 'openai'}),\n",
       " ('store', True),\n",
       " {'type': 'function_call_output',\n",
       "  'call_id': 'call_pT6xXvd3ZKkureVsraFhvpql',\n",
       "  'output': '{\"horoscope\": \"{\\'sign\\': \\'Virgo\\'}: The celestial bodies are aligning in your favor this week, bringing with them a tide of transformative energy that will wash over every aspect of your life. As the planets dance through the cosmos, they weave intricate patterns that speak directly to your soul\\'s journey. The universe has been conspiring to bring you to this moment, where opportunity and preparation meet in a beautiful cosmic waltz.\\\\n\\\\nIn matters of the heart, Venus whispers secrets of connection and understanding. You may find yourself drawn to unexpected places and people, as the stars guide you toward meaningful encounters. Trust your intuition as it navigates these uncharted waters - it knows the way even when your logical mind cannot see the path ahead.\\\\n\\\\nYour professional life is about to experience a significant shift. Jupiter\\'s influence suggests expansion and growth, but remember that all great things require patience and dedication. The seeds you plant now will bear fruit in ways you cannot yet imagine. Stay focused on your long-term vision, even when the daily grind feels overwhelming.\\\\n\\\\nNext Tuesday holds particular significance - you will befriend a baby otter, and this seemingly random encounter will serve as a powerful metaphor for the playful, curious energy you need to embrace. Let this adorable creature remind you that life is meant to be enjoyed, not just endured. The otter\\'s natural wisdom about going with the flow while remaining alert and engaged is exactly the balance you need to cultivate.\\\\n\\\\nFinancial prospects look promising, but avoid impulsive decisions. The stars suggest a careful, measured approach to any investments or major purchases. What seems like a golden opportunity on the surface may require deeper examination.\\\\n\\\\nYour health and well-being call for attention. The cosmic energies encourage you to establish better boundaries and prioritize self-care. Remember, you cannot pour from an empty cup. Take time to recharge your physical, emotional, and spiritual batteries.\\\\n\\\\nAs this cycle progresses, you\\'ll discover hidden talents and passions you never knew existed. The universe is inviting you to step outside your comfort zone and explore new horizons. Embrace the unknown with courage and curiosity, knowing that the stars are guiding your every step.\"}'}]"
      ]
     },
     "execution_count": 7,
     "metadata": {},
     "output_type": "execute_result"
    }
   ],
   "source": [
    "messages"
   ]
  },
  {
   "cell_type": "code",
   "execution_count": 8,
   "id": "274b2bdb",
   "metadata": {},
   "outputs": [],
   "source": [
    "import copy\n",
    "\n",
    "original_tool_call = copy.deepcopy(messages[-1])"
   ]
  },
  {
   "cell_type": "code",
   "execution_count": 9,
   "id": "9d43359b",
   "metadata": {},
   "outputs": [
    {
     "data": {
      "text/plain": [
       "{'type': 'function_call_output',\n",
       " 'call_id': 'call_pT6xXvd3ZKkureVsraFhvpql',\n",
       " 'output': '{\"horoscope\": \"{\\'sign\\': \\'Virgo\\'}: The celestial bodies are aligning in your favor this week, bringing with them a tide of transformative energy that will wash over every aspect of your life. As the planets dance through the cosmos, they weave intricate patterns that speak directly to your soul\\'s journey. The universe has been conspiring to bring you to this moment, where opportunity and preparation meet in a beautiful cosmic waltz.\\\\n\\\\nIn matters of the heart, Venus whispers secrets of connection and understanding. You may find yourself drawn to unexpected places and people, as the stars guide you toward meaningful encounters. Trust your intuition as it navigates these uncharted waters - it knows the way even when your logical mind cannot see the path ahead.\\\\n\\\\nYour professional life is about to experience a significant shift. Jupiter\\'s influence suggests expansion and growth, but remember that all great things require patience and dedication. The seeds you plant now will bear fruit in ways you cannot yet imagine. Stay focused on your long-term vision, even when the daily grind feels overwhelming.\\\\n\\\\nNext Tuesday holds particular significance - you will befriend a baby otter, and this seemingly random encounter will serve as a powerful metaphor for the playful, curious energy you need to embrace. Let this adorable creature remind you that life is meant to be enjoyed, not just endured. The otter\\'s natural wisdom about going with the flow while remaining alert and engaged is exactly the balance you need to cultivate.\\\\n\\\\nFinancial prospects look promising, but avoid impulsive decisions. The stars suggest a careful, measured approach to any investments or major purchases. What seems like a golden opportunity on the surface may require deeper examination.\\\\n\\\\nYour health and well-being call for attention. The cosmic energies encourage you to establish better boundaries and prioritize self-care. Remember, you cannot pour from an empty cup. Take time to recharge your physical, emotional, and spiritual batteries.\\\\n\\\\nAs this cycle progresses, you\\'ll discover hidden talents and passions you never knew existed. The universe is inviting you to step outside your comfort zone and explore new horizons. Embrace the unknown with courage and curiosity, knowing that the stars are guiding your every step.\"}'}"
      ]
     },
     "execution_count": 9,
     "metadata": {},
     "output_type": "execute_result"
    }
   ],
   "source": [
    "original_tool_call"
   ]
  },
  {
   "cell_type": "code",
   "execution_count": 10,
   "id": "5c1776f4",
   "metadata": {},
   "outputs": [],
   "source": [
    "original_tool_call_tokens = count_tokens(original_tool_call[\"output\"])"
   ]
  },
  {
   "cell_type": "code",
   "execution_count": 11,
   "id": "83b4ee13",
   "metadata": {},
   "outputs": [
    {
     "data": {
      "text/plain": [
       "441"
      ]
     },
     "execution_count": 11,
     "metadata": {},
     "output_type": "execute_result"
    }
   ],
   "source": [
    "original_tool_call_tokens"
   ]
  },
  {
   "cell_type": "markdown",
   "id": "5c9dd839",
   "metadata": {},
   "source": [
    "## Approach 1: Naive Tombstoning\n",
    "\n",
    "Manually replace the long tool output with a short, hand-written summary."
   ]
  },
  {
   "cell_type": "code",
   "execution_count": 12,
   "id": "fc7cfe4b",
   "metadata": {},
   "outputs": [],
   "source": [
    "new_tool_call    = {\n",
    "    \"type\": \"function_call_output\",\n",
    "    \"call_id\": item.call_id,\n",
    "    \"output\": json.dumps({\n",
    "      \"horoscope\": {\n",
    "        \"sign\": \"Virgo\",\n",
    "        \"horoscope\": \"You will have good fortune\"\n",
    "      }\n",
    "    })\n",
    "}"
   ]
  },
  {
   "cell_type": "code",
   "execution_count": 13,
   "id": "f05f2353",
   "metadata": {},
   "outputs": [],
   "source": [
    "new_tool_call_tokens = count_tokens(new_tool_call[\"output\"])"
   ]
  },
  {
   "cell_type": "code",
   "execution_count": 14,
   "id": "89b544e5",
   "metadata": {},
   "outputs": [
    {
     "data": {
      "text/plain": [
       "22"
      ]
     },
     "execution_count": 14,
     "metadata": {},
     "output_type": "execute_result"
    }
   ],
   "source": [
    "new_tool_call_tokens"
   ]
  },
  {
   "cell_type": "markdown",
   "id": "57a46345",
   "metadata": {},
   "source": [
    "## Approach 2: LLM-Derived Tombstoning\n",
    "\n",
    "Use a lightweight LLM to automatically summarize the tool output into 5 words or less."
   ]
  },
  {
   "cell_type": "code",
   "execution_count": 15,
   "id": "fd78f1da",
   "metadata": {},
   "outputs": [],
   "source": [
    "\n",
    "# Use a lightweight model to summarize the output\n",
    "new_output = client.responses.create(\n",
    "    model=\"gpt-5-nano\",\n",
    "    instructions=\"Rewrite this into 5 words or less\",\n",
    "    input=original_tool_call[\"output\"]\n",
    ")"
   ]
  },
  {
   "cell_type": "code",
   "execution_count": 16,
   "id": "4d6cb482",
   "metadata": {},
   "outputs": [],
   "source": [
    "llm_summary_tool_call = new_output.output_text"
   ]
  },
  {
   "cell_type": "code",
   "execution_count": 17,
   "id": "3d3a5b9c",
   "metadata": {},
   "outputs": [
    {
     "data": {
      "text/plain": [
       "'Virgo: transformative week; trust intuition.'"
      ]
     },
     "execution_count": 17,
     "metadata": {},
     "output_type": "execute_result"
    }
   ],
   "source": [
    "llm_summary_tool_call"
   ]
  },
  {
   "cell_type": "code",
   "execution_count": 18,
   "id": "ddae254d",
   "metadata": {},
   "outputs": [],
   "source": [
    "new_llm_summary_tool_call = {\n",
    "    \"type\": \"function_call_output\",\n",
    "    \"call_id\": item.call_id,\n",
    "    \"output\": json.dumps({\n",
    "      \"horoscope\": {\n",
    "        \"sign\": \"Virgo\",\n",
    "        \"horoscope\": llm_summary_tool_call\n",
    "    }\n",
    "    })\n",
    "}"
   ]
  },
  {
   "cell_type": "code",
   "execution_count": 19,
   "id": "4215050d",
   "metadata": {},
   "outputs": [
    {
     "data": {
      "text/plain": [
       "{'type': 'function_call_output',\n",
       " 'call_id': 'call_pT6xXvd3ZKkureVsraFhvpql',\n",
       " 'output': '{\"horoscope\": {\"sign\": \"Virgo\", \"horoscope\": \"Virgo: transformative week; trust intuition.\"}}'}"
      ]
     },
     "execution_count": 19,
     "metadata": {},
     "output_type": "execute_result"
    }
   ],
   "source": [
    "new_llm_summary_tool_call"
   ]
  },
  {
   "cell_type": "code",
   "execution_count": 20,
   "id": "595d30e3",
   "metadata": {},
   "outputs": [],
   "source": [
    "new_llm_summary_tool_call_tokens = count_tokens(new_llm_summary_tool_call[\"output\"])"
   ]
  },
  {
   "cell_type": "code",
   "execution_count": 21,
   "id": "45883271",
   "metadata": {},
   "outputs": [
    {
     "data": {
      "text/plain": [
       "26"
      ]
     },
     "execution_count": 21,
     "metadata": {},
     "output_type": "execute_result"
    }
   ],
   "source": [
    "new_llm_summary_tool_call_tokens"
   ]
  },
  {
   "cell_type": "markdown",
   "id": "46a4347d",
   "metadata": {},
   "source": [
    "## Results Comparison\n",
    "\n",
    "Compare token counts between the original and tombstoned tool calls.\n"
   ]
  },
  {
   "cell_type": "code",
   "execution_count": 22,
   "id": "9308ace2",
   "metadata": {},
   "outputs": [
    {
     "data": {
      "text/plain": [
       "(441, 26)"
      ]
     },
     "execution_count": 22,
     "metadata": {},
     "output_type": "execute_result"
    }
   ],
   "source": [
    "# Display original vs tombstoned token counts\n",
    "(original_tool_call_tokens, new_llm_summary_tool_call_tokens)"
   ]
  },
  {
   "cell_type": "code",
   "execution_count": 23,
   "id": "a66931f2",
   "metadata": {},
   "outputs": [],
   "source": [
    "# Calculate token savings\n",
    "diff_tokens = original_tool_call_tokens - new_llm_summary_tool_call_tokens"
   ]
  },
  {
   "cell_type": "code",
   "execution_count": 24,
   "id": "9e45fc4f",
   "metadata": {},
   "outputs": [
    {
     "data": {
      "text/plain": [
       "415"
      ]
     },
     "execution_count": 24,
     "metadata": {},
     "output_type": "execute_result"
    }
   ],
   "source": [
    "diff_tokens"
   ]
  },
  {
   "cell_type": "markdown",
   "id": "ccb0bcd1",
   "metadata": {},
   "source": [
    "### Scale to Multiple Tool Calls\n",
    "\n",
    "Calculate savings if you have 5 tool calls in your agent."
   ]
  },
  {
   "cell_type": "code",
   "execution_count": 25,
   "id": "8f8de84c",
   "metadata": {},
   "outputs": [
    {
     "data": {
      "text/plain": [
       "2075"
      ]
     },
     "execution_count": 25,
     "metadata": {},
     "output_type": "execute_result"
    }
   ],
   "source": [
    "diff_tokens * 5"
   ]
  },
  {
   "cell_type": "code",
   "execution_count": 26,
   "id": "eb5931d6",
   "metadata": {},
   "outputs": [],
   "source": [
    "# Calculate percentage reduction\n",
    "percentage_diff = (diff_tokens / original_tool_call_tokens) * 100"
   ]
  },
  {
   "cell_type": "code",
   "execution_count": 27,
   "id": "2095f627",
   "metadata": {},
   "outputs": [
    {
     "data": {
      "text/plain": [
       "94.10430839002267"
      ]
     },
     "execution_count": 27,
     "metadata": {},
     "output_type": "execute_result"
    }
   ],
   "source": [
    "percentage_diff"
   ]
  }
 ],
 "metadata": {
  "kernelspec": {
   "display_name": ".venv",
   "language": "python",
   "name": "python3"
  },
  "language_info": {
   "codemirror_mode": {
    "name": "ipython",
    "version": 3
   },
   "file_extension": ".py",
   "mimetype": "text/x-python",
   "name": "python",
   "nbconvert_exporter": "python",
   "pygments_lexer": "ipython3",
   "version": "3.11.13"
  }
 },
 "nbformat": 4,
 "nbformat_minor": 5
}
